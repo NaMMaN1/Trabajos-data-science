{
 "cells": [
  {
   "cell_type": "markdown",
   "id": "f1821584",
   "metadata": {},
   "source": [
    "Predicción de goles de Mohamed Salah, utilizando como estadística todos los goles que ha hecho a lo largo de su carrera."
   ]
  },
  {
   "cell_type": "markdown",
   "id": "dd5b9de8",
   "metadata": {},
   "source": [
    "# Importar librerías"
   ]
  },
  {
   "cell_type": "code",
   "execution_count": 78,
   "id": "ec5bbf0f",
   "metadata": {},
   "outputs": [],
   "source": [
    "import pandas as pd\n",
    "import matplotlib.pyplot as plt\n",
    "import numpy as np\n",
    "from sklearn.model_selection import train_test_split\n",
    "from sklearn.linear_model import LinearRegression\n",
    "import statsmodels.formula.api as smf"
   ]
  },
  {
   "cell_type": "markdown",
   "id": "1f2141a5",
   "metadata": {},
   "source": [
    "# Dataset"
   ]
  },
  {
   "cell_type": "code",
   "execution_count": 79,
   "id": "c18b8059",
   "metadata": {},
   "outputs": [
    {
     "data": {
      "text/html": [
       "<div>\n",
       "<style scoped>\n",
       "    .dataframe tbody tr th:only-of-type {\n",
       "        vertical-align: middle;\n",
       "    }\n",
       "\n",
       "    .dataframe tbody tr th {\n",
       "        vertical-align: top;\n",
       "    }\n",
       "\n",
       "    .dataframe thead th {\n",
       "        text-align: right;\n",
       "    }\n",
       "</style>\n",
       "<table border=\"1\" class=\"dataframe\">\n",
       "  <thead>\n",
       "    <tr style=\"text-align: right;\">\n",
       "      <th></th>\n",
       "      <th>Temporada</th>\n",
       "      <th>Partidos</th>\n",
       "      <th>Goles</th>\n",
       "      <th>PartidosAc</th>\n",
       "      <th>GolesAc</th>\n",
       "    </tr>\n",
       "  </thead>\n",
       "  <tbody>\n",
       "    <tr>\n",
       "      <th>0</th>\n",
       "      <td>2010-2011</td>\n",
       "      <td>4</td>\n",
       "      <td>5</td>\n",
       "      <td>4</td>\n",
       "      <td>5</td>\n",
       "    </tr>\n",
       "    <tr>\n",
       "      <th>1</th>\n",
       "      <td>2011-2012</td>\n",
       "      <td>6</td>\n",
       "      <td>7</td>\n",
       "      <td>10</td>\n",
       "      <td>12</td>\n",
       "    </tr>\n",
       "    <tr>\n",
       "      <th>2</th>\n",
       "      <td>2012-2013</td>\n",
       "      <td>9</td>\n",
       "      <td>10</td>\n",
       "      <td>19</td>\n",
       "      <td>22</td>\n",
       "    </tr>\n",
       "    <tr>\n",
       "      <th>3</th>\n",
       "      <td>2013-2014</td>\n",
       "      <td>10</td>\n",
       "      <td>12</td>\n",
       "      <td>29</td>\n",
       "      <td>34</td>\n",
       "    </tr>\n",
       "    <tr>\n",
       "      <th>4</th>\n",
       "      <td>2014-2015</td>\n",
       "      <td>8</td>\n",
       "      <td>9</td>\n",
       "      <td>37</td>\n",
       "      <td>43</td>\n",
       "    </tr>\n",
       "    <tr>\n",
       "      <th>5</th>\n",
       "      <td>2015-2016</td>\n",
       "      <td>13</td>\n",
       "      <td>15</td>\n",
       "      <td>50</td>\n",
       "      <td>58</td>\n",
       "    </tr>\n",
       "    <tr>\n",
       "      <th>6</th>\n",
       "      <td>2016-2017</td>\n",
       "      <td>14</td>\n",
       "      <td>19</td>\n",
       "      <td>64</td>\n",
       "      <td>77</td>\n",
       "    </tr>\n",
       "    <tr>\n",
       "      <th>7</th>\n",
       "      <td>2017-2018</td>\n",
       "      <td>34</td>\n",
       "      <td>44</td>\n",
       "      <td>98</td>\n",
       "      <td>121</td>\n",
       "    </tr>\n",
       "    <tr>\n",
       "      <th>8</th>\n",
       "      <td>2018-2019</td>\n",
       "      <td>22</td>\n",
       "      <td>27</td>\n",
       "      <td>120</td>\n",
       "      <td>148</td>\n",
       "    </tr>\n",
       "    <tr>\n",
       "      <th>9</th>\n",
       "      <td>2019-2020</td>\n",
       "      <td>18</td>\n",
       "      <td>23</td>\n",
       "      <td>138</td>\n",
       "      <td>171</td>\n",
       "    </tr>\n",
       "    <tr>\n",
       "      <th>10</th>\n",
       "      <td>2020-2021</td>\n",
       "      <td>25</td>\n",
       "      <td>31</td>\n",
       "      <td>163</td>\n",
       "      <td>202</td>\n",
       "    </tr>\n",
       "    <tr>\n",
       "      <th>11</th>\n",
       "      <td>2021-2022</td>\n",
       "      <td>24</td>\n",
       "      <td>31</td>\n",
       "      <td>187</td>\n",
       "      <td>233</td>\n",
       "    </tr>\n",
       "    <tr>\n",
       "      <th>12</th>\n",
       "      <td>2022-2023</td>\n",
       "      <td>5</td>\n",
       "      <td>5</td>\n",
       "      <td>192</td>\n",
       "      <td>238</td>\n",
       "    </tr>\n",
       "  </tbody>\n",
       "</table>\n",
       "</div>"
      ],
      "text/plain": [
       "    Temporada  Partidos  Goles  PartidosAc  GolesAc\n",
       "0   2010-2011         4      5           4        5\n",
       "1   2011-2012         6      7          10       12\n",
       "2   2012-2013         9     10          19       22\n",
       "3   2013-2014        10     12          29       34\n",
       "4   2014-2015         8      9          37       43\n",
       "5   2015-2016        13     15          50       58\n",
       "6   2016-2017        14     19          64       77\n",
       "7   2017-2018        34     44          98      121\n",
       "8   2018-2019        22     27         120      148\n",
       "9   2019-2020        18     23         138      171\n",
       "10  2020-2021        25     31         163      202\n",
       "11  2021-2022        24     31         187      233\n",
       "12  2022-2023         5      5         192      238"
      ]
     },
     "execution_count": 79,
     "metadata": {},
     "output_type": "execute_result"
    }
   ],
   "source": [
    "df = pd.read_csv(\"Desktop/Mohammed Salah carrera.csv\")\n",
    "df"
   ]
  },
  {
   "cell_type": "markdown",
   "id": "00a4c3d2",
   "metadata": {},
   "source": [
    "# Graficación de goles según partidos"
   ]
  },
  {
   "cell_type": "code",
   "execution_count": 80,
   "id": "8ca6836f",
   "metadata": {},
   "outputs": [
    {
     "data": {
      "text/plain": [
       "<AxesSubplot:xlabel='PartidosAc', ylabel='GolesAc'>"
      ]
     },
     "execution_count": 80,
     "metadata": {},
     "output_type": "execute_result"
    },
    {
     "data": {
      "image/png": "[encoded data removed]",
      "text/plain": [
       "<Figure size 432x288 with 1 Axes>"
      ]
     },
     "metadata": {
      "needs_background": "light"
     },
     "output_type": "display_data"
    }
   ],
   "source": [
    "df.plot.scatter(x=\"PartidosAc\", y=\"GolesAc\")"
   ]
  },
  {
   "cell_type": "markdown",
   "id": "2af1513c",
   "metadata": {},
   "source": [
    "# Regresión lineal del modelo"
   ]
  },
  {
   "cell_type": "code",
   "execution_count": 81,
   "id": "0124f7a1",
   "metadata": {},
   "outputs": [
    {
     "data": {
      "text/plain": [
       "LinearRegression()"
      ]
     },
     "execution_count": 81,
     "metadata": {},
     "output_type": "execute_result"
    }
   ],
   "source": [
    "reg = LinearRegression()\n",
    "reg.fit(df[[\"PartidosAc\"]], df[\"GolesAc\"])"
   ]
  },
  {
   "cell_type": "code",
   "execution_count": 82,
   "id": "21245b84",
   "metadata": {},
   "outputs": [
    {
     "name": "stderr",
     "output_type": "stream",
     "text": [
      "C:\\Users\\Galfe\\anaconda3\\lib\\site-packages\\sklearn\\base.py:450: UserWarning: X does not have valid feature names, but LinearRegression was fitted with feature names\n",
      "  warnings.warn(\n"
     ]
    },
    {
     "data": {
      "text/plain": [
       "array([248.24177339, 123.11463746])"
      ]
     },
     "execution_count": 82,
     "metadata": {},
     "output_type": "execute_result"
    }
   ],
   "source": [
    "reg.predict([[200],[100]])"
   ]
  },
  {
   "cell_type": "markdown",
   "id": "92b4c816",
   "metadata": {},
   "source": [
    "# Predicción"
   ]
  },
  {
   "cell_type": "code",
   "execution_count": 83,
   "id": "b7756122",
   "metadata": {},
   "outputs": [
    {
     "data": {
      "text/plain": [
       "0       2.992587\n",
       "1      10.500215\n",
       "2      21.761657\n",
       "3      34.274371\n",
       "4      44.284542\n",
       "5      60.551069\n",
       "6      78.068869\n",
       "7     120.612095\n",
       "8     148.140065\n",
       "9     170.662949\n",
       "10    201.944733\n",
       "11    231.975246\n",
       "12    238.231603\n",
       "dtype: float64"
      ]
     },
     "execution_count": 83,
     "metadata": {},
     "output_type": "execute_result"
    }
   ],
   "source": [
    "pr = pd.Series(reg.predict(df[[\"PartidosAc\"]]))\n",
    "pr"
   ]
  },
  {
   "cell_type": "code",
   "execution_count": 84,
   "id": "4fccf299",
   "metadata": {},
   "outputs": [
    {
     "data": {
      "text/html": [
       "<div>\n",
       "<style scoped>\n",
       "    .dataframe tbody tr th:only-of-type {\n",
       "        vertical-align: middle;\n",
       "    }\n",
       "\n",
       "    .dataframe tbody tr th {\n",
       "        vertical-align: top;\n",
       "    }\n",
       "\n",
       "    .dataframe thead th {\n",
       "        text-align: right;\n",
       "    }\n",
       "</style>\n",
       "<table border=\"1\" class=\"dataframe\">\n",
       "  <thead>\n",
       "    <tr style=\"text-align: right;\">\n",
       "      <th></th>\n",
       "      <th>Temporada</th>\n",
       "      <th>Partidos</th>\n",
       "      <th>Goles</th>\n",
       "      <th>PartidosAc</th>\n",
       "      <th>GolesAc</th>\n",
       "      <th>Predicción</th>\n",
       "    </tr>\n",
       "  </thead>\n",
       "  <tbody>\n",
       "    <tr>\n",
       "      <th>0</th>\n",
       "      <td>2010-2011</td>\n",
       "      <td>4</td>\n",
       "      <td>5</td>\n",
       "      <td>4</td>\n",
       "      <td>5</td>\n",
       "      <td>2.992587</td>\n",
       "    </tr>\n",
       "    <tr>\n",
       "      <th>1</th>\n",
       "      <td>2011-2012</td>\n",
       "      <td>6</td>\n",
       "      <td>7</td>\n",
       "      <td>10</td>\n",
       "      <td>12</td>\n",
       "      <td>10.500215</td>\n",
       "    </tr>\n",
       "    <tr>\n",
       "      <th>2</th>\n",
       "      <td>2012-2013</td>\n",
       "      <td>9</td>\n",
       "      <td>10</td>\n",
       "      <td>19</td>\n",
       "      <td>22</td>\n",
       "      <td>21.761657</td>\n",
       "    </tr>\n",
       "    <tr>\n",
       "      <th>3</th>\n",
       "      <td>2013-2014</td>\n",
       "      <td>10</td>\n",
       "      <td>12</td>\n",
       "      <td>29</td>\n",
       "      <td>34</td>\n",
       "      <td>34.274371</td>\n",
       "    </tr>\n",
       "    <tr>\n",
       "      <th>4</th>\n",
       "      <td>2014-2015</td>\n",
       "      <td>8</td>\n",
       "      <td>9</td>\n",
       "      <td>37</td>\n",
       "      <td>43</td>\n",
       "      <td>44.284542</td>\n",
       "    </tr>\n",
       "    <tr>\n",
       "      <th>5</th>\n",
       "      <td>2015-2016</td>\n",
       "      <td>13</td>\n",
       "      <td>15</td>\n",
       "      <td>50</td>\n",
       "      <td>58</td>\n",
       "      <td>60.551069</td>\n",
       "    </tr>\n",
       "    <tr>\n",
       "      <th>6</th>\n",
       "      <td>2016-2017</td>\n",
       "      <td>14</td>\n",
       "      <td>19</td>\n",
       "      <td>64</td>\n",
       "      <td>77</td>\n",
       "      <td>78.068869</td>\n",
       "    </tr>\n",
       "    <tr>\n",
       "      <th>7</th>\n",
       "      <td>2017-2018</td>\n",
       "      <td>34</td>\n",
       "      <td>44</td>\n",
       "      <td>98</td>\n",
       "      <td>121</td>\n",
       "      <td>120.612095</td>\n",
       "    </tr>\n",
       "    <tr>\n",
       "      <th>8</th>\n",
       "      <td>2018-2019</td>\n",
       "      <td>22</td>\n",
       "      <td>27</td>\n",
       "      <td>120</td>\n",
       "      <td>148</td>\n",
       "      <td>148.140065</td>\n",
       "    </tr>\n",
       "    <tr>\n",
       "      <th>9</th>\n",
       "      <td>2019-2020</td>\n",
       "      <td>18</td>\n",
       "      <td>23</td>\n",
       "      <td>138</td>\n",
       "      <td>171</td>\n",
       "      <td>170.662949</td>\n",
       "    </tr>\n",
       "    <tr>\n",
       "      <th>10</th>\n",
       "      <td>2020-2021</td>\n",
       "      <td>25</td>\n",
       "      <td>31</td>\n",
       "      <td>163</td>\n",
       "      <td>202</td>\n",
       "      <td>201.944733</td>\n",
       "    </tr>\n",
       "    <tr>\n",
       "      <th>11</th>\n",
       "      <td>2021-2022</td>\n",
       "      <td>24</td>\n",
       "      <td>31</td>\n",
       "      <td>187</td>\n",
       "      <td>233</td>\n",
       "      <td>231.975246</td>\n",
       "    </tr>\n",
       "    <tr>\n",
       "      <th>12</th>\n",
       "      <td>2022-2023</td>\n",
       "      <td>5</td>\n",
       "      <td>5</td>\n",
       "      <td>192</td>\n",
       "      <td>238</td>\n",
       "      <td>238.231603</td>\n",
       "    </tr>\n",
       "  </tbody>\n",
       "</table>\n",
       "</div>"
      ],
      "text/plain": [
       "    Temporada  Partidos  Goles  PartidosAc  GolesAc  Predicción\n",
       "0   2010-2011         4      5           4        5    2.992587\n",
       "1   2011-2012         6      7          10       12   10.500215\n",
       "2   2012-2013         9     10          19       22   21.761657\n",
       "3   2013-2014        10     12          29       34   34.274371\n",
       "4   2014-2015         8      9          37       43   44.284542\n",
       "5   2015-2016        13     15          50       58   60.551069\n",
       "6   2016-2017        14     19          64       77   78.068869\n",
       "7   2017-2018        34     44          98      121  120.612095\n",
       "8   2018-2019        22     27         120      148  148.140065\n",
       "9   2019-2020        18     23         138      171  170.662949\n",
       "10  2020-2021        25     31         163      202  201.944733\n",
       "11  2021-2022        24     31         187      233  231.975246\n",
       "12  2022-2023         5      5         192      238  238.231603"
      ]
     },
     "execution_count": 84,
     "metadata": {},
     "output_type": "execute_result"
    }
   ],
   "source": [
    "df[\"Predicción\"] = pr\n",
    "df"
   ]
  },
  {
   "cell_type": "markdown",
   "id": "2a07d02f",
   "metadata": {},
   "source": [
    "# Graficación de la predicción"
   ]
  },
  {
   "cell_type": "code",
   "execution_count": 85,
   "id": "5fd30618",
   "metadata": {},
   "outputs": [
    {
     "data": {
      "text/plain": [
       "<AxesSubplot:xlabel='PartidosAc', ylabel='GolesAc'>"
      ]
     },
     "execution_count": 85,
     "metadata": {},
     "output_type": "execute_result"
    },
    {
     "data": {
      "image/png": "[encoded data removed]",
      "text/plain": [
       "<Figure size 432x288 with 1 Axes>"
      ]
     },
     "metadata": {
      "needs_background": "light"
     },
     "output_type": "display_data"
    }
   ],
   "source": [
    "regr = df.plot.line(x=\"PartidosAc\", y=\"Predicción\")\n",
    "df.plot.scatter(x=\"PartidosAc\", y=\"GolesAc\", ax = regr, color=\"red\")"
   ]
  },
  {
   "cell_type": "markdown",
   "id": "efb19079",
   "metadata": {},
   "source": [
    "# R cuadrado"
   ]
  },
  {
   "cell_type": "code",
   "execution_count": 86,
   "id": "208706f4",
   "metadata": {},
   "outputs": [],
   "source": [
    "lm=smf.ols(formula=\"PartidosAc~GolesAc\", data=df).fit()"
   ]
  },
  {
   "cell_type": "code",
   "execution_count": 87,
   "id": "c275ff84",
   "metadata": {},
   "outputs": [
    {
     "data": {
      "text/plain": [
       "<statsmodels.regression.linear_model.RegressionResultsWrapper at 0x24d07cec8b0>"
      ]
     },
     "execution_count": 87,
     "metadata": {},
     "output_type": "execute_result"
    }
   ],
   "source": [
    "lm"
   ]
  },
  {
   "cell_type": "code",
   "execution_count": 88,
   "id": "10b00f8e",
   "metadata": {},
   "outputs": [
    {
     "data": {
      "text/plain": [
       "0.9998042313438608"
      ]
     },
     "execution_count": 88,
     "metadata": {},
     "output_type": "execute_result"
    }
   ],
   "source": [
    "lm.rsquared # El r cuadrado de este modelo es de 0.9998, lo cual significa que tiene una precisión casi perfecta"
   ]
  }
 ],
 "metadata": {
  "kernelspec": {
   "display_name": "Python 3 (ipykernel)",
   "language": "python",
   "name": "python3"
  },
  "language_info": {
   "codemirror_mode": {
    "name": "ipython",
    "version": 3
   },
   "file_extension": ".py",
   "mimetype": "text/x-python",
   "name": "python",
   "nbconvert_exporter": "python",
   "pygments_lexer": "ipython3",
   "version": "3.9.12"
  }
 },
 "nbformat": 4,
 "nbformat_minor": 5
}
